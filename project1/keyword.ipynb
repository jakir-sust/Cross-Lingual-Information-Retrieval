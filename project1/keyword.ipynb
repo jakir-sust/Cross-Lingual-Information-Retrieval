{
 "cells": [
  {
   "cell_type": "code",
   "execution_count": null,
   "id": "general-jefferson",
   "metadata": {},
   "outputs": [],
   "source": [
    "import pickle\n",
    "\n",
    "covid_dict = {}\n",
    "\n",
    "covid_dict[\"covid\"] = [\"Covid-19\", \"coronavirus\", \"WHO\", \"कोविड मृत्यु\", \"hotspot\", \"healthcare\", \"स्वास्थ्य सेवा\", \n",
    "                       \"variant\", \"RTPCR\", \"lockdown\", \"cierre de emergencia\", \"pandemic\", \"stay home\", \"stay safe\",\n",
    "                      \"outbreak\", \"Face mask\", \"Mascara facial\", \"Social distancing\", \"distanciamiento social\", \"Quarantine\", \"लक्षण\", \n",
    "                       \"Hand sanitiser\", \"Desinfectante de manos\", \"वुहान\", \"herd immunity\"]\n",
    "\n",
    "covid_dict[\"vaccine\"] = [\"Covid-19 vaccine\", \"pfizer\", \"Fauci\", \"फौसी\", \"Moderna\", \"सिनोवैक\", \"कोरोनावैक\", \"पहली खुराक\", \"segunda dosis\",\n",
    "                         \"booster\", \"aumentador de presión\", \"injection\",\n",
    "                        \"inmunización\", \"vaccine hesitancy\", \"टीका हिचकिचाहट\", \"side effects\", \"efectos secundarios\",\n",
    "                        \"vaccine passport\", \"pasaporte de vacuna\", \"वैक्सीन पासपोर्ट\", \"pregnancy\", \"vaccine reactions\", \"reacciones a la vacuna\"]\n",
    "\n",
    "with open('project1_keywords.pickle', 'wb') as handle:\n",
    "    pickle.dump(covid_dict, handle, protocol=pickle.HIGHEST_PROTOCOL)\n",
    "\n",
    "with open('project1_keywords.pickle', 'rb') as handle:\n",
    "    b = pickle.load(handle)\n",
    "\n",
    "    #print(len(b[\"vaccine\"]), len(b['covid']))\n",
    "    #print(b)\n",
    "\n",
    "final_key_path = \"crowdsourced_keywords.pickle\"\n",
    "with open(final_key_path, 'rb') as handle:\n",
    "    b = pickle.load(handle)\n",
    "    #print(b)\n",
    "\n",
    "print (covid_dict == b)"
   ]
  },
  {
   "cell_type": "code",
   "execution_count": null,
   "id": "roman-bennett",
   "metadata": {},
   "outputs": [],
   "source": [
    "\n",
    "pip install git+https://github.com/tweepy/tweepy.git\n"
   ]
  },
  {
   "cell_type": "code",
   "execution_count": null,
   "id": "parental-zoning",
   "metadata": {},
   "outputs": [],
   "source": [
    "API key = 'PI4E6fSPT3N9IpIhL8zULRfAL'\n",
    "'EJPjfQD2aKahYgdWDxYzTWjFD'\n",
    "'xSDvcTgr3Rs9QVbEhh0j9HKK6oKXdNBXhZGyOncYN7vMxpNBuv'\n",
    "'1432842215294967814-EMaJK1EdbXqVWLHe5AfSDOpWYuuUOH'\n",
    "'cH9hqUz3TZpRAaIHDuJf33Qw10mfq0vohSVPOYoid7ARI'\n",
    "'AAAAAAAAAAAAAAAAAAAAANOtTgEAAAAAQPMlvGa6VIZwm428zIV9RYuQzvI%3DaWHRC3GFeY7iQ6zHtsYTmSa3qDGHoP0DIkj0U2RlRUw1HLE5CB'\n",
    "API key secret = 'HWr7ic4K0J6C0SwK4UowIyXlPAhlms9D8rF0kBGXXVRo1WrUm8'\n",
    "Bearer token = 'AAAAAAAAAAAAAAAAAAAAABiXTgEAAAAA9I7rfx8OKI9axexKJmqlcYMHU0w%3DN5npolzEomwA0YIWbWEMuq7hd1dWfyyu6JYN6L1BdfnGO9ZoHv'\n",
    "Access token = '1432842215294967814-ZOaowZCPpFIRoIPtE3jlX6U95aXFQf'\n",
    "Access Token secret = 'CXTZYbXMuSKweopmdGlW3dtPqyRnbVvZYT1ahAMZ4VhJ1'"
   ]
  },
  {
   "cell_type": "code",
   "execution_count": 9,
   "id": "visible-switzerland",
   "metadata": {},
   "outputs": [
    {
     "name": "stdout",
     "output_type": "stream",
     "text": [
      "5\n",
      "Status(_api=<tweepy.api.API object at 0x7fb8af36bee0>, _json={'created_at': 'Sun Sep 19 15:10:03 +0000 2021', 'id': 1439607728016609286, 'id_str': '1439607728016609286', 'full_text': \"Past presidents have cut taxes for the wealthy and biggest corporations with the promise of economic growth.\\n\\nIt doesn't work.\\n\\nThe ultra-wealthy and corporations must pay their fair share—which will lower costs for the middle class.\", 'truncated': False, 'display_text_range': [0, 233], 'entities': {'hashtags': [], 'symbols': [], 'user_mentions': [], 'urls': []}, 'source': '<a href=\"https://sproutsocial.com\" rel=\"nofollow\">Sprout Social</a>', 'in_reply_to_status_id': None, 'in_reply_to_status_id_str': None, 'in_reply_to_user_id': None, 'in_reply_to_user_id_str': None, 'in_reply_to_screen_name': None, 'user': {'id': 939091, 'id_str': '939091', 'name': 'Joe Biden', 'screen_name': 'JoeBiden', 'location': 'Washington, DC', 'description': 'Husband to @DrBiden, proud father and grandfather. Ready to build back better for all Americans. Official account is @POTUS.', 'url': 'https://t.co/UClrPuJpyZ', 'entities': {'url': {'urls': [{'url': 'https://t.co/UClrPuJpyZ', 'expanded_url': 'http://joebiden.com', 'display_url': 'joebiden.com', 'indices': [0, 23]}]}, 'description': {'urls': []}}, 'protected': False, 'followers_count': 31221283, 'friends_count': 47, 'listed_count': 37165, 'created_at': 'Sun Mar 11 17:51:24 +0000 2007', 'favourites_count': 20, 'utc_offset': None, 'time_zone': None, 'geo_enabled': False, 'verified': True, 'statuses_count': 7547, 'lang': None, 'contributors_enabled': False, 'is_translator': False, 'is_translation_enabled': False, 'profile_background_color': '565959', 'profile_background_image_url': 'http://abs.twimg.com/images/themes/theme1/bg.png', 'profile_background_image_url_https': 'https://abs.twimg.com/images/themes/theme1/bg.png', 'profile_background_tile': True, 'profile_image_url': 'http://pbs.twimg.com/profile_images/1308769664240160770/AfgzWVE7_normal.jpg', 'profile_image_url_https': 'https://pbs.twimg.com/profile_images/1308769664240160770/AfgzWVE7_normal.jpg', 'profile_banner_url': 'https://pbs.twimg.com/profile_banners/939091/1626295479', 'profile_link_color': '233F94', 'profile_sidebar_border_color': 'FFFFFF', 'profile_sidebar_fill_color': 'EBEBFF', 'profile_text_color': '323232', 'profile_use_background_image': True, 'has_extended_profile': False, 'default_profile': False, 'default_profile_image': False, 'following': False, 'follow_request_sent': False, 'notifications': False, 'translator_type': 'none', 'withheld_in_countries': []}, 'geo': None, 'coordinates': None, 'place': None, 'contributors': None, 'is_quote_status': False, 'retweet_count': 6071, 'favorite_count': 39021, 'favorited': False, 'retweeted': False, 'lang': 'en'}, created_at=datetime.datetime(2021, 9, 19, 15, 10, 3), id=1439607728016609286, id_str='1439607728016609286', full_text=\"Past presidents have cut taxes for the wealthy and biggest corporations with the promise of economic growth.\\n\\nIt doesn't work.\\n\\nThe ultra-wealthy and corporations must pay their fair share—which will lower costs for the middle class.\", truncated=False, display_text_range=[0, 233], entities={'hashtags': [], 'symbols': [], 'user_mentions': [], 'urls': []}, source='Sprout Social', source_url='https://sproutsocial.com', in_reply_to_status_id=None, in_reply_to_status_id_str=None, in_reply_to_user_id=None, in_reply_to_user_id_str=None, in_reply_to_screen_name=None, author=User(_api=<tweepy.api.API object at 0x7fb8af36bee0>, _json={'id': 939091, 'id_str': '939091', 'name': 'Joe Biden', 'screen_name': 'JoeBiden', 'location': 'Washington, DC', 'description': 'Husband to @DrBiden, proud father and grandfather. Ready to build back better for all Americans. Official account is @POTUS.', 'url': 'https://t.co/UClrPuJpyZ', 'entities': {'url': {'urls': [{'url': 'https://t.co/UClrPuJpyZ', 'expanded_url': 'http://joebiden.com', 'display_url': 'joebiden.com', 'indices': [0, 23]}]}, 'description': {'urls': []}}, 'protected': False, 'followers_count': 31221283, 'friends_count': 47, 'listed_count': 37165, 'created_at': 'Sun Mar 11 17:51:24 +0000 2007', 'favourites_count': 20, 'utc_offset': None, 'time_zone': None, 'geo_enabled': False, 'verified': True, 'statuses_count': 7547, 'lang': None, 'contributors_enabled': False, 'is_translator': False, 'is_translation_enabled': False, 'profile_background_color': '565959', 'profile_background_image_url': 'http://abs.twimg.com/images/themes/theme1/bg.png', 'profile_background_image_url_https': 'https://abs.twimg.com/images/themes/theme1/bg.png', 'profile_background_tile': True, 'profile_image_url': 'http://pbs.twimg.com/profile_images/1308769664240160770/AfgzWVE7_normal.jpg', 'profile_image_url_https': 'https://pbs.twimg.com/profile_images/1308769664240160770/AfgzWVE7_normal.jpg', 'profile_banner_url': 'https://pbs.twimg.com/profile_banners/939091/1626295479', 'profile_link_color': '233F94', 'profile_sidebar_border_color': 'FFFFFF', 'profile_sidebar_fill_color': 'EBEBFF', 'profile_text_color': '323232', 'profile_use_background_image': True, 'has_extended_profile': False, 'default_profile': False, 'default_profile_image': False, 'following': False, 'follow_request_sent': False, 'notifications': False, 'translator_type': 'none', 'withheld_in_countries': []}, id=939091, id_str='939091', name='Joe Biden', screen_name='JoeBiden', location='Washington, DC', description='Husband to @DrBiden, proud father and grandfather. Ready to build back better for all Americans. Official account is @POTUS.', url='https://t.co/UClrPuJpyZ', entities={'url': {'urls': [{'url': 'https://t.co/UClrPuJpyZ', 'expanded_url': 'http://joebiden.com', 'display_url': 'joebiden.com', 'indices': [0, 23]}]}, 'description': {'urls': []}}, protected=False, followers_count=31221283, friends_count=47, listed_count=37165, created_at=datetime.datetime(2007, 3, 11, 17, 51, 24), favourites_count=20, utc_offset=None, time_zone=None, geo_enabled=False, verified=True, statuses_count=7547, lang=None, contributors_enabled=False, is_translator=False, is_translation_enabled=False, profile_background_color='565959', profile_background_image_url='http://abs.twimg.com/images/themes/theme1/bg.png', profile_background_image_url_https='https://abs.twimg.com/images/themes/theme1/bg.png', profile_background_tile=True, profile_image_url='http://pbs.twimg.com/profile_images/1308769664240160770/AfgzWVE7_normal.jpg', profile_image_url_https='https://pbs.twimg.com/profile_images/1308769664240160770/AfgzWVE7_normal.jpg', profile_banner_url='https://pbs.twimg.com/profile_banners/939091/1626295479', profile_link_color='233F94', profile_sidebar_border_color='FFFFFF', profile_sidebar_fill_color='EBEBFF', profile_text_color='323232', profile_use_background_image=True, has_extended_profile=False, default_profile=False, default_profile_image=False, following=False, follow_request_sent=False, notifications=False, translator_type='none', withheld_in_countries=[]), user=User(_api=<tweepy.api.API object at 0x7fb8af36bee0>, _json={'id': 939091, 'id_str': '939091', 'name': 'Joe Biden', 'screen_name': 'JoeBiden', 'location': 'Washington, DC', 'description': 'Husband to @DrBiden, proud father and grandfather. Ready to build back better for all Americans. Official account is @POTUS.', 'url': 'https://t.co/UClrPuJpyZ', 'entities': {'url': {'urls': [{'url': 'https://t.co/UClrPuJpyZ', 'expanded_url': 'http://joebiden.com', 'display_url': 'joebiden.com', 'indices': [0, 23]}]}, 'description': {'urls': []}}, 'protected': False, 'followers_count': 31221283, 'friends_count': 47, 'listed_count': 37165, 'created_at': 'Sun Mar 11 17:51:24 +0000 2007', 'favourites_count': 20, 'utc_offset': None, 'time_zone': None, 'geo_enabled': False, 'verified': True, 'statuses_count': 7547, 'lang': None, 'contributors_enabled': False, 'is_translator': False, 'is_translation_enabled': False, 'profile_background_color': '565959', 'profile_background_image_url': 'http://abs.twimg.com/images/themes/theme1/bg.png', 'profile_background_image_url_https': 'https://abs.twimg.com/images/themes/theme1/bg.png', 'profile_background_tile': True, 'profile_image_url': 'http://pbs.twimg.com/profile_images/1308769664240160770/AfgzWVE7_normal.jpg', 'profile_image_url_https': 'https://pbs.twimg.com/profile_images/1308769664240160770/AfgzWVE7_normal.jpg', 'profile_banner_url': 'https://pbs.twimg.com/profile_banners/939091/1626295479', 'profile_link_color': '233F94', 'profile_sidebar_border_color': 'FFFFFF', 'profile_sidebar_fill_color': 'EBEBFF', 'profile_text_color': '323232', 'profile_use_background_image': True, 'has_extended_profile': False, 'default_profile': False, 'default_profile_image': False, 'following': False, 'follow_request_sent': False, 'notifications': False, 'translator_type': 'none', 'withheld_in_countries': []}, id=939091, id_str='939091', name='Joe Biden', screen_name='JoeBiden', location='Washington, DC', description='Husband to @DrBiden, proud father and grandfather. Ready to build back better for all Americans. Official account is @POTUS.', url='https://t.co/UClrPuJpyZ', entities={'url': {'urls': [{'url': 'https://t.co/UClrPuJpyZ', 'expanded_url': 'http://joebiden.com', 'display_url': 'joebiden.com', 'indices': [0, 23]}]}, 'description': {'urls': []}}, protected=False, followers_count=31221283, friends_count=47, listed_count=37165, created_at=datetime.datetime(2007, 3, 11, 17, 51, 24), favourites_count=20, utc_offset=None, time_zone=None, geo_enabled=False, verified=True, statuses_count=7547, lang=None, contributors_enabled=False, is_translator=False, is_translation_enabled=False, profile_background_color='565959', profile_background_image_url='http://abs.twimg.com/images/themes/theme1/bg.png', profile_background_image_url_https='https://abs.twimg.com/images/themes/theme1/bg.png', profile_background_tile=True, profile_image_url='http://pbs.twimg.com/profile_images/1308769664240160770/AfgzWVE7_normal.jpg', profile_image_url_https='https://pbs.twimg.com/profile_images/1308769664240160770/AfgzWVE7_normal.jpg', profile_banner_url='https://pbs.twimg.com/profile_banners/939091/1626295479', profile_link_color='233F94', profile_sidebar_border_color='FFFFFF', profile_sidebar_fill_color='EBEBFF', profile_text_color='323232', profile_use_background_image=True, has_extended_profile=False, default_profile=False, default_profile_image=False, following=False, follow_request_sent=False, notifications=False, translator_type='none', withheld_in_countries=[]), geo=None, coordinates=None, place=None, contributors=None, is_quote_status=False, retweet_count=6071, favorite_count=39021, favorited=False, retweeted=False, lang='en')\n"
     ]
    },
    {
     "data": {
      "text/plain": [
       "'\\nname = \"ABdeVilliers17\"\\nreply_tweets = tweepy.Cursor(api.search,q=\\'to:\\'+name, result_type=\\'recent\\', timeout=999999).items(10)\\n\\n#print(len(reply_tweets))\\n\\ncnt = 0   \\nfor tweet in reply_tweets:\\n    cnt +=1\\n    if cnt ==10:\\n        break\\n    if hasattr(tweet, \\'in_reply_to_status_id_str\\'):\\n        print(tweet.text)\\n        print(\"------------------------------\")\\n#'"
      ]
     },
     "execution_count": 9,
     "metadata": {},
     "output_type": "execute_result"
    }
   ],
   "source": [
    "import tweepy\n",
    "\n",
    "consumer_key = 'PI4E6fSPT3N9IpIhL8zULRfAL'\n",
    "consumer_secret = 'HWr7ic4K0J6C0SwK4UowIyXlPAhlms9D8rF0kBGXXVRo1WrUm8'\n",
    "access_token = '1432842215294967814-ZOaowZCPpFIRoIPtE3jlX6U95aXFQf'\n",
    "access_token_secret = 'CXTZYbXMuSKweopmdGlW3dtPqyRnbVvZYT1ahAMZ4VhJ1'\n",
    "\n",
    "auth = tweepy.OAuthHandler(consumer_key, consumer_secret)\n",
    "auth.set_access_token(access_token, access_token_secret)\n",
    "\n",
    "api = tweepy.API(auth)\n",
    "     \n",
    "#public_tweets = api.home_timeline()\n",
    "\n",
    "tweets = api.home_timeline(screen_name= \"JoeBiden\", count=5, include_rts=True)\n",
    "\n",
    "#tweets = api.search(q = 'covid', count=10, lang = \"en\")\n",
    "\n",
    "\n",
    "print(len(tweets))\n",
    "#for tweet in tweets:\n",
    " #   print(tweet.text)\n",
    "    #break\n",
    "#user = api.get_user('twitter')\n",
    "\n",
    "\n",
    "#for friend in tweepy.Cursor(api.friends).items():\n",
    "    # Process the friend here\n",
    "    #process_friend(friend)\n",
    "\n",
    "#for tweet in tweepy.Cursor(api.search, q='tweepy').items(10):\n",
    "#print(tweet.text)\n",
    "\n",
    "for status in tweepy.Cursor(api.user_timeline, screen_name='JoeBiden', tweet_mode=\"extended\").items(500):\n",
    "    print(status)\n",
    "    break\n",
    "#for pages in tweepy.Cursor(api.user_timeline, screen_name='JoeBiden', count=500).pages():        \n",
    "#    print(pages)\n",
    "    break\n",
    "'''\n",
    "name = \"ABdeVilliers17\"\n",
    "reply_tweets = tweepy.Cursor(api.search,q='to:'+name, result_type='recent', timeout=999999).items(10)\n",
    "\n",
    "#print(len(reply_tweets))\n",
    "\n",
    "cnt = 0   \n",
    "for tweet in reply_tweets:\n",
    "    cnt +=1\n",
    "    if cnt ==10:\n",
    "        break\n",
    "    if hasattr(tweet, 'in_reply_to_status_id_str'):\n",
    "        print(tweet.text)\n",
    "        print(\"------------------------------\")\n",
    "#'''"
   ]
  },
  {
   "cell_type": "code",
   "execution_count": null,
   "id": "threatened-paint",
   "metadata": {},
   "outputs": [],
   "source": [
    "api = tweepy.API(auth)\n",
    "for tweet in tweepy.Cursor(api.search, q='tweepy').items(10):\n",
    "    print(tweet.text)"
   ]
  },
  {
   "cell_type": "code",
   "execution_count": null,
   "id": "graduate-tooth",
   "metadata": {},
   "outputs": [],
   "source": [
    "import tweepy\n",
    "auth = tweepy.OAuthHandler(\"\", \"\")\n",
    "auth.set_access_token(\"\", \"\")\n",
    "api = tweepy.API(auth, wait_on_rate_limit=True)\n",
    "tweets = api.user_timeline(screen_name= \"ABdeVilliers17\", count=10, include_rts=True)\n",
    "\n",
    "tweets = api.search(q = 'covid', count=10, lang = \"english\")\n"
   ]
  },
  {
   "cell_type": "code",
   "execution_count": null,
   "id": "rental-framework",
   "metadata": {},
   "outputs": [],
   "source": []
  }
 ],
 "metadata": {
  "kernelspec": {
   "display_name": "Python 3",
   "language": "python",
   "name": "python3"
  },
  "language_info": {
   "codemirror_mode": {
    "name": "ipython",
    "version": 3
   },
   "file_extension": ".py",
   "mimetype": "text/x-python",
   "name": "python",
   "nbconvert_exporter": "python",
   "pygments_lexer": "ipython3",
   "version": "3.9.1"
  }
 },
 "nbformat": 4,
 "nbformat_minor": 5
}
